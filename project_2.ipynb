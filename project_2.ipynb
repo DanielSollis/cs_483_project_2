{
 "cells": [
  {
   "cell_type": "code",
   "execution_count": 1,
   "metadata": {},
   "outputs": [
    {
     "data": {
      "text/plain": [
       "[<matplotlib.lines.Line2D at 0x7f8a7c4723c8>]"
      ]
     },
     "execution_count": 1,
     "metadata": {},
     "output_type": "execute_result"
    }
   ],
   "source": [
    "import pandas\n",
    "import pylab as plt\n",
    "\n",
    "pandas.read_csv('Wage.csv')\n",
    "read_wage_data = pandas.read_csv('Wage.csv')\n",
    "age = read_wage_data[\"age\"]\n",
    "wage = read_wage_data[\"wage\"]\n",
    "\n",
    "plt.xlabel(\"age\")\n",
    "plt.ylabel(\"wage\")\n",
    "plt.plot(age, wage, 'ro')\n",
    "\n",
    "#there doesn't appear to be a linear relationship, there are patterns though, \n",
    "#such as the seperation of the clusters "
   ]
  },
  {
   "cell_type": "code",
   "execution_count": 2,
   "metadata": {},
   "outputs": [],
   "source": [
    "from sklearn.model_selection import train_test_split\n",
    "\n",
    "age_train, age_test, wage_train, wage_test = train_test_split(read_wage_data[\"age\"], read_wage_data[\"wage\"], test_size = 0.20)"
   ]
  },
  {
   "cell_type": "code",
   "execution_count": 3,
   "metadata": {},
   "outputs": [
    {
     "name": "stdout",
     "output_type": "stream",
     "text": [
      "[0.68221383]\n"
     ]
    },
    {
     "data": {
      "image/png": "[encoded data removed]",
      "text/plain": [
       "<Figure size 432x288 with 1 Axes>"
      ]
     },
     "metadata": {
      "needs_background": "light"
     },
     "output_type": "display_data"
    }
   ],
   "source": [
    "from sklearn.linear_model import LinearRegression\n",
    "import numpy as np\n",
    "X = age_train.values.reshape(-1, 1)\n",
    "y = wage_train\n",
    "reg = LinearRegression().fit(X, y)\n",
    "pred_y = wage_test.values.reshape(-1, 1)\n",
    "pred_y = reg.predict(pred_y)\n",
    "\n",
    "plt.plot(age, wage, 'ro')\n",
    "plt.plot(wage_test, pred_y)\n",
    "plt.xlim(10, 80)\n",
    "print(reg.coef_)"
   ]
  },
  {
   "cell_type": "code",
   "execution_count": 4,
   "metadata": {},
   "outputs": [
    {
     "data": {
      "text/plain": [
       "-2.5508542147849647"
      ]
     },
     "execution_count": 4,
     "metadata": {},
     "output_type": "execute_result"
    }
   ],
   "source": [
    "X_test = age_test.values.reshape(-1, 1)\n",
    "reg.score(X_test, pred_y)\n",
    "#the R^2 tells us the loss of our model"
   ]
  },
  {
   "cell_type": "code",
   "execution_count": 5,
   "metadata": {},
   "outputs": [
    {
     "name": "stdout",
     "output_type": "stream",
     "text": [
      "1.0\n"
     ]
    }
   ],
   "source": [
    "from sklearn.preprocessing import PolynomialFeatures\n",
    "\n",
    "X = age_train.values.reshape(-1, 1)\n",
    "y = wage_train\n",
    "poly = PolynomialFeatures(degree=4)\n",
    "X = poly.fit_transform(X)\n",
    "X_test = poly.fit_transform(age_test.values.reshape(-1, 1))\n",
    "reg = LinearRegression().fit(X, y)\n",
    "pred = reg.predict(X_test)\n",
    "score = reg.score(X_test, pred)\n",
    "print(score)\n",
    "# MAKE SURE THIS IS ACCURATE"
   ]
  },
  {
   "cell_type": "code",
   "execution_count": 7,
   "metadata": {},
   "outputs": [
    {
     "name": "stdout",
     "output_type": "stream",
     "text": [
      "[ 0.00000000e+00  2.79742019e+01 -8.10062295e-01  1.05403571e-02\n",
      " -5.20046162e-05]\n",
      "0.08490516323575836\n"
     ]
    },
    {
     "name": "stderr",
     "output_type": "stream",
     "text": [
      "/home/daniel/anaconda3/lib/python3.7/site-packages/sklearn/linear_model/ridge.py:125: LinAlgWarning: scipy.linalg.solve\n",
      "Ill-conditioned matrix detected. Result is not guaranteed to be accurate.\n",
      "Reciprocal condition number1.708286e-18\n",
      "  overwrite_a=True).T\n"
     ]
    }
   ],
   "source": [
    "from sklearn.linear_model import Ridge\n",
    "\n",
    "X = age_train.values.reshape(-1, 1)\n",
    "y = wage_train\n",
    "RReg = Ridge(alpha = 0.1)\n",
    "poly = PolynomialFeatures(degree = 4)\n",
    "X = poly.fit_transform(X)\n",
    "RReg.fit(X, y)\n",
    "print(RReg.coef_)\n",
    "print(RReg.score(X, y))\n",
    "#the coefficients are much smaller than the coefficient in exercise 4\n",
    "#the score here is much smaller than the above scores"
   ]
  },
  {
   "cell_type": "code",
   "execution_count": null,
   "metadata": {},
   "outputs": [],
   "source": []
  }
 ],
 "metadata": {
  "kernelspec": {
   "display_name": "Python 3",
   "language": "python",
   "name": "python3"
  },
  "language_info": {
   "codemirror_mode": {
    "name": "ipython",
    "version": 3
   },
   "file_extension": ".py",
   "mimetype": "text/x-python",
   "name": "python",
   "nbconvert_exporter": "python",
   "pygments_lexer": "ipython3",
   "version": "3.7.1"
  }
 },
 "nbformat": 4,
 "nbformat_minor": 2
}
